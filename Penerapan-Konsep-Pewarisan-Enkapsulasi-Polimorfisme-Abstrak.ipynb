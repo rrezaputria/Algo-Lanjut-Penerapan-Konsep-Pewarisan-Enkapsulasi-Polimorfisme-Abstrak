{
 "cells": [
  {
   "cell_type": "code",
   "execution_count": 88,
   "id": "c7343b25",
   "metadata": {},
   "outputs": [],
   "source": [
    "#Class-Class Dosen Pembimbing 1, Dosen Pembimbing 2, Mahasiswa 2020, Mahasiswa 2021\n",
    "\n",
    "\n",
    "#Class Dosen Pembimbing 1 dan Pembimbing 2\n",
    "class Dosen:\n",
    "    \n",
    "    #enkapsulasi privat \"__\"\n",
    "    def __init__(self, nama, jenis_kelamin, prodi, masa_kerja, bidang_penelitian, jumlah_publikasi, jumlah_bimbingan):\n",
    "        self.__nama = nama\n",
    "        self.__jenis_kelamin = jenis_kelamin\n",
    "        self.__prodi = prodi\n",
    "        self.__masa_kerja = masa_kerja\n",
    "        self.__bidang_penelitian = bidang_penelitian\n",
    "        self.__jumlah_publikasi = jumlah_publikasi\n",
    "        self.__jumlah_bimbingan = jumlah_bimbingan\n",
    "    \n",
    "    #getter\n",
    "    def get_nama(self):\n",
    "        return self.__nama\n",
    "    \n",
    "    def get_JenisKelamin(self):\n",
    "        return self.__jenis_kelamin\n",
    "    \n",
    "    def get_prodi(self):\n",
    "        return self.__prodi\n",
    "    \n",
    "    def get_MasaKerja(self):\n",
    "        return self.__masa_kerja\n",
    "    \n",
    "    def get_BidangPenelitian(self):\n",
    "        return self.__bidang_penelitian\n",
    "    \n",
    "    def get_JumlahPublikasi(self):\n",
    "        return self.__jumlah_publikasi\n",
    "    \n",
    "    def get_JumlahBimbingan(self):\n",
    "        return self.__jumlah_bimbingan\n",
    "    \n",
    "    \n",
    "#Class Template ABC (Abstract Base Class)\n",
    "class Mahasiswa():\n",
    "    \n",
    "    #enkapsulasi privat \"__\"\n",
    "    def __init__(self, nama, jenis_kelamin, prodi, angkatan, semester, judul_skripsi, bidang_penelitian):\n",
    "        #enkapsulasi privat \"__\"\n",
    "        self.__nama = nama\n",
    "        self.__jenis_kelamin = jenis_kelamin\n",
    "        self.__prodi = prodi\n",
    "        self.__angkatan = angkatan\n",
    "        self.__semester = semester\n",
    "        self.__judul_skripsi = judul_skripsi\n",
    "        self.__bidang_penelitian = bidang_penelitian\n",
    "\n",
    "        #enkapsulasi publik\n",
    "        self.status_pengajuan = False\n",
    "    \n",
    "    #polimorfisme\n",
    "    def persetujuan_dosen(self):\n",
    "        pass\n",
    "    \n",
    "    #getter\n",
    "    def get_nama(self):\n",
    "        return self.__nama\n",
    "    \n",
    "    def get_JenisKelamin(self):\n",
    "        return self.__jenis_kelamin\n",
    "    \n",
    "    def get_prodi(self):\n",
    "        return self.__prodi\n",
    "    \n",
    "    def get_angkatan(self):\n",
    "        return self.__angkatan\n",
    "    \n",
    "    def get_semester(self):\n",
    "        return self.__semester\n",
    "    \n",
    "    def get_JudulSkripsi(self):\n",
    "        return self.__judul_skripsi\n",
    "    \n",
    "    def get_BidangPenelitian(self):\n",
    "        return self.__bidang_penelitian\n",
    "    \n",
    "    \n",
    "#Class Mahasiswa 2020 yang mewarisi ABC (Abstract Base Class) Mahasiswa, Dosen 1, Dosen 2\n",
    "class Mahasiswa20(Mahasiswa):\n",
    "    def __init__(self, nama, jenis_kelamin, prodi, angkatan, semester, judul_skripsi, bidang_penelitian, dospem1, dospem2):\n",
    "        super().__init__(nama, jenis_kelamin, prodi, angkatan, semester, judul_skripsi, bidang_penelitian)\n",
    "        \n",
    "        #enkapsulasi publik\n",
    "        self.dospem1 = dospem1\n",
    "        self.dospem2 = dospem2\n",
    "        \n",
    "    #polimorfisme\n",
    "    def persetujuan_dosen(self):\n",
    "        self.status_pengajuan = True\n",
    "        print(\"Mahasiswa atas nama\", self.get_nama(), \"dengan judul skripsi\", self.get_JudulSkripsi(), \"angkatan tahun 2020\", \"di bidang penelitian\", \n",
    "        self.get_BidangPenelitian(), \"telah di setujui oleh Dosen Pembimbing 1 dan Dosen Pembimbing 2\")\n",
    "        \n",
    "        \n",
    "#Class Mahasiswa 2021, yang mewarisi kelas ABC (Abstract Base Class) dan Mahasiswa, Mahasiswa 2020, Dosen 1, Dosen 2\n",
    "class Mahasiswa21(Mahasiswa):\n",
    "    def __init__(self, nama, jenis_kelamin, prodi, angkatan, semester, judul_skripsi, bidang_penelitian, dospem1, dospem2):\n",
    "        super().__init__(nama, jenis_kelamin, prodi, angkatan, semester, judul_skripsi, bidang_penelitian)\n",
    "        \n",
    "        #enkapsulasi publik\n",
    "        self.dospem1 = dospem1\n",
    "        self.dospem2 = dospem2\n",
    "        \n",
    "    #polimorfisme\n",
    "    def persetujuan_dosen(self, Mahasiswa20=None):\n",
    "        print(\"Mahasiswa atas nama\", self.get_nama())\n",
    "        if Mahasiswa20 is not None:\n",
    "            if Mahasiswa20.get_JudulSkripsi() == self.get_JudulSkripsi():\n",
    "                if not Mahasiswa20.status_pengajuan:\n",
    "                    self.status_pengajuan = False\n",
    "                    print(\"dengan judul skripsi angkatan mahasiswa 2020\", Mahasiswa20.get_JudulSkripsi(), \"belum di setujui oleh Dosen Pembimbing 1 dan Dosen Pembimbing 2\")\n",
    "                else:\n",
    "                    self.set_status_pengajuan = True\n",
    "                    print(\"Mahasiswa 2021 dapat melanjutkan penelitian\", self.get_JudulSkripsi(), \"mahasiswa angkatan 2020 pada bidang penelitian\", self.get_BidangPenelitian())\n",
    "            else:\n",
    "                self.status_pengajuan = True\n",
    "                print(\"Judul skripsi\", self.get_JudulSkripsi(), \"pada bidang penelitian\", self.get_BidangPenelitian(), \"telah di setujui oleh Dosen Pembimbing 1 dan Dosen Pembimbing 2\")\n",
    "        else:\n",
    "            self.status_pengajuan = True\n",
    "            print(\"Judul skripsi\", self.get_JudulSkripsi(), \"pada bidang penelitian\", self.get_BidangPenelitian(), \"telah di setujui oleh Dosen Pembimbing 1 dan Dosen Pembimbing 2\")"
   ]
  },
  {
   "cell_type": "markdown",
   "id": "519ae586",
   "metadata": {},
   "source": [
    "Data Dosen Pembimbing 1 dan Dosen Pembimbing 2"
   ]
  },
  {
   "cell_type": "code",
   "execution_count": 89,
   "id": "f460f24e",
   "metadata": {},
   "outputs": [
    {
     "name": "stdout",
     "output_type": "stream",
     "text": [
      "Data Dosen Pembimbing 1 : \n",
      "Nama dosen Dr. Abdurakhman, M.SI dengan jenis kelamin Laki-Laki dari program studi Statistika dengan masa kerja 15 tahun dalam bidang penelitian Analisis Regresi dan SQC dengan jumlah publikasi 115 dan jumlah mahasiswa bimbingan sebanyak 5\n",
      "\n",
      "\n",
      "Data Dosen Pembimbing 2 : \n",
      "Nama dosen Rahmasari Nur Azizah, S.Si, M.Sc dengan jenis kelamin Perempuan dari program studi Statistika dengan masa kerja 9 tahun dalam bidang penelitian Analisis Regresi dan SQC dengan jumlah publikasi 80 dan jumlah mahasiswa bimbingan sebanyak 3\n"
     ]
    }
   ],
   "source": [
    "#Data Dosen Pembimbing 1\n",
    "\n",
    "dosen1 = Dosen(\"Dr. Abdurakhman, M.SI\", \"Laki-Laki\", \"Statistika\", 15, \"Analisis Regresi dan SQC\", 115, 5)\n",
    "print(\"Data Dosen Pembimbing 1 : \")\n",
    "print(\"Nama dosen\", dosen1.get_nama(), \"dengan jenis kelamin\", dosen1.get_JenisKelamin(), \"dari program studi\", dosen1.get_prodi(), \n",
    "      \"dengan masa kerja\", dosen1.get_MasaKerja(), \"tahun\", \"dalam bidang penelitian\", dosen1.get_BidangPenelitian(), \n",
    "      \"dengan jumlah publikasi\", dosen1.get_JumlahPublikasi(), \"dan jumlah mahasiswa bimbingan sebanyak\", \n",
    "      dosen1.get_JumlahBimbingan())\n",
    "\n",
    "print(\"\\n\")\n",
    "\n",
    "#Data Dosen Pembimbing 2\n",
    "\n",
    "dosen2 = Dosen(\"Rahmasari Nur Azizah, S.Si, M.Sc\", \"Perempuan\", \"Statistika\", 9, \"Analisis Regresi dan SQC\", 80, 3)\n",
    "print(\"Data Dosen Pembimbing 2 : \")\n",
    "print(\"Nama dosen\", dosen2.get_nama(), \"dengan jenis kelamin\", dosen2.get_JenisKelamin(), \"dari program studi\", dosen2.get_prodi(),\n",
    "     \"dengan masa kerja\", dosen2.get_MasaKerja(), \"tahun\", \"dalam bidang penelitian\", dosen2.get_BidangPenelitian(), \n",
    "      \"dengan jumlah publikasi\", dosen2.get_JumlahPublikasi(), \"dan jumlah mahasiswa bimbingan sebanyak\", \n",
    "      dosen2.get_JumlahBimbingan())"
   ]
  },
  {
   "cell_type": "markdown",
   "id": "8e59d69f",
   "metadata": {},
   "source": [
    "Beberapa Output Yang Di Tampilkan : "
   ]
  },
  {
   "cell_type": "markdown",
   "id": "2ca2067c",
   "metadata": {},
   "source": [
    "1. Dosen Pembimbing 1 dan Dosen Pembimbing 2 Menyetujui Judul Skripsi Mahasiswa 2020"
   ]
  },
  {
   "cell_type": "code",
   "execution_count": 90,
   "id": "d3497b72",
   "metadata": {},
   "outputs": [
    {
     "name": "stdout",
     "output_type": "stream",
     "text": [
      "Mahasiswa atas nama Arinto Adam dengan judul skripsi Analisis Regresi Poisson Lagrange Dan Regresi Binom Negatif angkatan tahun 2020 di bidang penelitian Analisis Regresi telah di setujui oleh Dosen Pembimbing 1 dan Dosen Pembimbing 2\n"
     ]
    }
   ],
   "source": [
    "#Kondisi Jika Kedua Dosen Pembimbing Menyetujui\n",
    "\n",
    "mahasiswa20_1 = Mahasiswa20(\"Arinto Adam\", \"Laki-Laki\", \"Statistika\", 2020, 7, \"Analisis Regresi Poisson Lagrange Dan Regresi Binom Negatif\",\n",
    "                            \"Analisis Regresi\", dosen1.get_nama(), dosen2.get_nama())\n",
    "\n",
    "mahasiswa20_1.persetujuan_dosen()"
   ]
  },
  {
   "cell_type": "markdown",
   "id": "7c25bce1",
   "metadata": {},
   "source": [
    "2. Dosen Pembimbing 1 dan Dosen Pembimbing 2 Menyetujui Judul Skripsi Mahasiswa 2020 Dan Mahasiswa 2021 Tidak Melanjutkan Penelitian"
   ]
  },
  {
   "cell_type": "code",
   "execution_count": 91,
   "id": "f0f47b74",
   "metadata": {},
   "outputs": [
    {
     "name": "stdout",
     "output_type": "stream",
     "text": [
      "Mahasiswa atas nama Soma Oktaviana\n",
      "Judul skripsi Statistical Quality Control Pada Pengolahan Minyak Sawit pada bidang penelitian SQC telah di setujui oleh Dosen Pembimbing 1 dan Dosen Pembimbing 2\n"
     ]
    }
   ],
   "source": [
    "#Kondisi Mahasiswa Angkatan 2021 Yang Di Setujui Dan Tidak Meneruskan Penelitian Angkatan 2020\n",
    "\n",
    "mahasiswa21_1 = Mahasiswa21(\"Soma Oktaviana\", \"Perempuan\", \"Statistika\", 2021, 5, \"Statistical Quality Control Pada Pengolahan Minyak Sawit\", \"SQC\", dosen1.get_nama(), dosen2.get_nama())\n",
    "mahasiswa21_1.persetujuan_dosen()"
   ]
  },
  {
   "cell_type": "markdown",
   "id": "2c4f9632",
   "metadata": {},
   "source": [
    "3. Dosen Pembimbing 1 Dan Dosen Pembimbing 2 Yang Menyetujui Judul Skripsi Mahasiswa 2020 Dan Di Lanjutkan Penelitian Oleh Mahasiswa 2021"
   ]
  },
  {
   "cell_type": "code",
   "execution_count": 92,
   "id": "b5e7ccfc",
   "metadata": {},
   "outputs": [
    {
     "name": "stdout",
     "output_type": "stream",
     "text": [
      "Mahasiswa atas nama Aldhera Augusta\n",
      "Judul skripsi Statistical Quality Control Pada Pengolahan Minyak Sawit pada bidang penelitian SQC telah di setujui oleh Dosen Pembimbing 1 dan Dosen Pembimbing 2\n"
     ]
    }
   ],
   "source": [
    "#mahasiswa angkatan 2021 melanjutkan penelitian mahasiswa angkatan 2020\n",
    "\n",
    "mahasiswa_next21_1 = Mahasiswa21(\"Aldhera Augusta\", \"Laki-Laki\", \"Statistika\", 2021, 5, \"Statistical Quality Control Pada Pengolahan Minyak Sawit\", \"SQC\", dosen1.get_nama(), dosen2.get_nama())\n",
    "mahasiswa_next21_1.persetujuan_dosen(mahasiswa20)"
   ]
  },
  {
   "cell_type": "markdown",
   "id": "18d5886a",
   "metadata": {},
   "source": [
    "4. Dosen Pembimbing 1 Dan Dosen Pembimbing 2 Tidak Menyetujui Judul Skripsi Mahasiswa 2020 Dan Mahasiswa 2021 Tidak Bisa Mengajukan Judul"
   ]
  },
  {
   "cell_type": "code",
   "execution_count": 93,
   "id": "5b2fa333",
   "metadata": {},
   "outputs": [
    {
     "name": "stdout",
     "output_type": "stream",
     "text": [
      "Mahasiswa atas nama Nonicha Zalfa\n",
      "dengan judul skripsi angkatan mahasiswa 2020 Regresi Spline Peubah belum di setujui oleh Dosen Pembimbing 1 dan Dosen Pembimbing 2\n"
     ]
    }
   ],
   "source": [
    "#mahasiswa angkatan 2020 tidak di acc\n",
    "\n",
    "mahasiswa_2020_2 = Mahasiswa20(\"Nadhifa Mumtaz\", \"Perempuan\", \"Statistika\", 2020, 7, \"Regresi Spline Peubah\", \"Analisis Regresi\", dosen1.get_nama(), dosen2.get_nama())\n",
    "mahasiswa_next21_2 = Mahasiswa21(\"Nonicha Zalfa\", \"Perempuan\", \"Statistika\", 2020, 5, \"Regresi Spline Peubah\", \"Analisis Regresi\", dosen1.get_nama(), dosen2.get_nama())\n",
    "mahasiswa_next21_2.persetujuan_dosen(mahasiswa_2020_2)"
   ]
  }
 ],
 "metadata": {
  "kernelspec": {
   "display_name": "Python 3 (ipykernel)",
   "language": "python",
   "name": "python3"
  },
  "language_info": {
   "codemirror_mode": {
    "name": "ipython",
    "version": 3
   },
   "file_extension": ".py",
   "mimetype": "text/x-python",
   "name": "python",
   "nbconvert_exporter": "python",
   "pygments_lexer": "ipython3",
   "version": "3.9.12"
  }
 },
 "nbformat": 4,
 "nbformat_minor": 5
}
